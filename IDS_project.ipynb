{
 "cells": [
  {
   "cell_type": "code",
   "execution_count": 26,
   "metadata": {},
   "outputs": [],
   "source": [
    "%matplotlib inline\n",
    "import numpy as np\n",
    "import pandas as pd\n",
    "from scipy.stats import norm, chisquare\n",
    "from math import sqrt\n",
    "from pandas.tools.plotting import scatter_matrix\n",
    "import seaborn as sns\n",
    "import statistics as st\n",
    "import matplotlib.pyplot as plt\n",
    "import re\n",
    "df=pd.read_csv(\"IDS-Data-Collection.csv\")"
   ]
  },
  {
   "cell_type": "code",
   "execution_count": 3,
   "metadata": {},
   "outputs": [
    {
     "data": {
      "text/plain": [
       "Index(['Timestamp', 'Gender', 'Height', 'Weight', 'DOB', 'Age', 'Sun_Sign',\n",
       "       'CGPA', 'Rate_Programming', 'PL', 'Sim_Course', 'Focus', 'DS_DA',\n",
       "       'Mean', 'Median', 'Sleep_time', 'sleep_duration', 'prefer_maths',\n",
       "       'Engg_Choice', 'course_instructor', 'physical_activity'],\n",
       "      dtype='object')"
      ]
     },
     "execution_count": 3,
     "metadata": {},
     "output_type": "execute_result"
    }
   ],
   "source": [
    "df.columns"
   ]
  },
  {
   "cell_type": "code",
   "execution_count": 4,
   "metadata": {},
   "outputs": [
    {
     "data": {
      "text/html": [
       "<div>\n",
       "<style scoped>\n",
       "    .dataframe tbody tr th:only-of-type {\n",
       "        vertical-align: middle;\n",
       "    }\n",
       "\n",
       "    .dataframe tbody tr th {\n",
       "        vertical-align: top;\n",
       "    }\n",
       "\n",
       "    .dataframe thead th {\n",
       "        text-align: right;\n",
       "    }\n",
       "</style>\n",
       "<table border=\"1\" class=\"dataframe\">\n",
       "  <thead>\n",
       "    <tr style=\"text-align: right;\">\n",
       "      <th></th>\n",
       "      <th>Gender</th>\n",
       "      <th>Height</th>\n",
       "      <th>Weight</th>\n",
       "      <th>DOB</th>\n",
       "      <th>Age</th>\n",
       "      <th>CGPA</th>\n",
       "      <th>Rate_Programming</th>\n",
       "      <th>PL</th>\n",
       "      <th>Mean</th>\n",
       "      <th>Median</th>\n",
       "    </tr>\n",
       "  </thead>\n",
       "  <tbody>\n",
       "    <tr>\n",
       "      <th>0</th>\n",
       "      <td>Female</td>\n",
       "      <td>5'3</td>\n",
       "      <td>74</td>\n",
       "      <td>7/30/1999</td>\n",
       "      <td>19.0</td>\n",
       "      <td>8.29</td>\n",
       "      <td>3</td>\n",
       "      <td>C++</td>\n",
       "      <td>6.0</td>\n",
       "      <td>8</td>\n",
       "    </tr>\n",
       "    <tr>\n",
       "      <th>1</th>\n",
       "      <td>Male</td>\n",
       "      <td>176</td>\n",
       "      <td>62</td>\n",
       "      <td>6/4/1999</td>\n",
       "      <td>19.0</td>\n",
       "      <td>8.27</td>\n",
       "      <td>4</td>\n",
       "      <td>C</td>\n",
       "      <td>6.0</td>\n",
       "      <td>9</td>\n",
       "    </tr>\n",
       "    <tr>\n",
       "      <th>2</th>\n",
       "      <td>Male</td>\n",
       "      <td>176</td>\n",
       "      <td>62</td>\n",
       "      <td>6/4/1999</td>\n",
       "      <td>19.0</td>\n",
       "      <td>8.27</td>\n",
       "      <td>4</td>\n",
       "      <td>C</td>\n",
       "      <td>6.0</td>\n",
       "      <td>9</td>\n",
       "    </tr>\n",
       "    <tr>\n",
       "      <th>3</th>\n",
       "      <td>Female</td>\n",
       "      <td>145</td>\n",
       "      <td>60</td>\n",
       "      <td>2/21/2000</td>\n",
       "      <td>18.0</td>\n",
       "      <td>9.21</td>\n",
       "      <td>3</td>\n",
       "      <td>Python</td>\n",
       "      <td>6.0</td>\n",
       "      <td>9</td>\n",
       "    </tr>\n",
       "    <tr>\n",
       "      <th>4</th>\n",
       "      <td>Male</td>\n",
       "      <td>185</td>\n",
       "      <td>56</td>\n",
       "      <td>8/15/1999</td>\n",
       "      <td>19.0</td>\n",
       "      <td>8.46</td>\n",
       "      <td>4</td>\n",
       "      <td>C</td>\n",
       "      <td>6.0</td>\n",
       "      <td>8</td>\n",
       "    </tr>\n",
       "  </tbody>\n",
       "</table>\n",
       "</div>"
      ],
      "text/plain": [
       "   Gender Height Weight        DOB   Age  CGPA  Rate_Programming      PL  \\\n",
       "0  Female    5'3     74  7/30/1999  19.0  8.29                 3     C++   \n",
       "1    Male    176     62   6/4/1999  19.0  8.27                 4       C   \n",
       "2    Male    176     62   6/4/1999  19.0  8.27                 4       C   \n",
       "3  Female    145     60  2/21/2000  18.0  9.21                 3  Python   \n",
       "4    Male    185     56  8/15/1999  19.0  8.46                 4       C   \n",
       "\n",
       "   Mean Median  \n",
       "0   6.0      8  \n",
       "1   6.0      9  \n",
       "2   6.0      9  \n",
       "3   6.0      9  \n",
       "4   6.0      8  "
      ]
     },
     "execution_count": 4,
     "metadata": {},
     "output_type": "execute_result"
    }
   ],
   "source": [
    "columns_to_keep=['Gender', 'Height', 'Weight', 'DOB', 'Age','CGPA', 'Rate_Programming', 'PL','Mean', 'Median']\n",
    "df=df[columns_to_keep]\n",
    "df.head(5)"
   ]
  },
  {
   "cell_type": "code",
   "execution_count": 5,
   "metadata": {},
   "outputs": [
    {
     "name": "stdout",
     "output_type": "stream",
     "text": [
      "182\n"
     ]
    }
   ],
   "source": [
    "print(len(df))"
   ]
  },
  {
   "cell_type": "code",
   "execution_count": 58,
   "metadata": {},
   "outputs": [
    {
     "data": {
      "image/png": "[encoded data removed]",
      "text/plain": [
       "<Figure size 432x288 with 1 Axes>"
      ]
     },
     "metadata": {},
     "output_type": "display_data"
    },
    {
     "data": {
      "image/png": "[encoded data removed]",
      "text/plain": [
       "<Figure size 432x288 with 1 Axes>"
      ]
     },
     "metadata": {},
     "output_type": "display_data"
    }
   ],
   "source": [
    "plt.hist(df.CGPA,bins=15)\n",
    "plt.show()\n",
    "\n",
    "def normality_check(data):\n",
    "    pos=[]\n",
    "    t_q=[]\n",
    "    data=np.sort(np.array(data))\n",
    "    pos=[(i-0.5)/len(data) for i in range(1,len(data)+1)]\n",
    "    t_q=[norm.ppf(i,np.mean(data),np.std(data)) for i in pos]\n",
    "    plt.plot(data,t_q,'ro',data,data)\n",
    "    plt.xlabel(\"CGPA\")\n",
    "    plt.ylabel(\"students\")\n",
    "    plt.show()\n",
    "    \n",
    "x=df.CGPA\n",
    "normality_check(x)"
   ]
  },
  {
   "cell_type": "code",
   "execution_count": 10,
   "metadata": {},
   "outputs": [
    {
     "name": "stdout",
     "output_type": "stream",
     "text": [
      "                Age        CGPA  Rate_Programming          Mean\n",
      "count  1.820000e+02  182.000000        182.000000  1.790000e+02\n",
      "mean   7.527474e+07    8.258984          3.131868  6.897040e+06\n",
      "std    1.015512e+09    2.493025          0.837106  9.227594e+07\n",
      "min    0.000000e+00    0.000000          1.000000  2.000000e-10\n",
      "25%    1.800000e+01    7.515000          3.000000  6.000000e+00\n",
      "50%    1.900000e+01    8.270000          3.000000  6.000000e+00\n",
      "75%    1.900000e+01    8.900000          4.000000  6.000000e+00\n",
      "max    1.370000e+10   33.340000          5.000000  1.234568e+09\n"
     ]
    }
   ],
   "source": [
    "print(df.describe())"
   ]
  },
  {
   "cell_type": "code",
   "execution_count": 7,
   "metadata": {},
   "outputs": [],
   "source": [
    "to_drop=['Timestamp','Sun_Sign',\n",
    "       'Sim_Course', 'Focus', 'DS_DA',\n",
    "        'Sleep_time', 'sleep_duration', 'prefer_maths',\n",
    "       'Engg_Choice', 'course_instructor', 'physical_activity']\n"
   ]
  },
  {
   "cell_type": "code",
   "execution_count": 8,
   "metadata": {},
   "outputs": [
    {
     "name": "stdout",
     "output_type": "stream",
     "text": [
      "['Timestamp', 'Sun_Sign', 'Sim_Course', 'Focus', 'DS_DA', 'Sleep_time', 'sleep_duration', 'prefer_maths', 'Engg_Choice', 'course_instructor', 'physical_activity']\n"
     ]
    }
   ],
   "source": [
    "print(to_drop)\n"
   ]
  },
  {
   "cell_type": "code",
   "execution_count": 9,
   "metadata": {},
   "outputs": [
    {
     "name": "stdout",
     "output_type": "stream",
     "text": [
      "Male      128\n",
      "Female     54\n",
      "Name: Gender, dtype: int64\n"
     ]
    }
   ],
   "source": [
    "print(df['Gender'].value_counts())"
   ]
  },
  {
   "cell_type": "code",
   "execution_count": 10,
   "metadata": {},
   "outputs": [
    {
     "data": {
      "text/plain": [
       "0      8.290\n",
       "1      8.270\n",
       "2      8.270\n",
       "3      9.210\n",
       "4      8.460\n",
       "5      9.700\n",
       "6      7.460\n",
       "7      9.420\n",
       "8      9.170\n",
       "9      8.250\n",
       "10     6.500\n",
       "11     8.750\n",
       "12     7.250\n",
       "13     7.940\n",
       "14     8.620\n",
       "15     7.230\n",
       "16     8.750\n",
       "17     9.520\n",
       "18     7.560\n",
       "19     7.920\n",
       "20     6.300\n",
       "21     9.540\n",
       "22     7.565\n",
       "23     6.000\n",
       "24     7.650\n",
       "25     9.190\n",
       "26     7.850\n",
       "27     9.040\n",
       "28     8.790\n",
       "29     8.500\n",
       "       ...  \n",
       "152    7.200\n",
       "153    6.670\n",
       "154    9.100\n",
       "155    7.000\n",
       "156    7.880\n",
       "157    7.750\n",
       "158    8.000\n",
       "159    7.750\n",
       "160    9.325\n",
       "161    8.670\n",
       "162    8.200\n",
       "163    8.400\n",
       "164    8.400\n",
       "165    7.000\n",
       "166    7.730\n",
       "167    7.000\n",
       "168    8.700\n",
       "169    8.580\n",
       "170    8.500\n",
       "171    8.960\n",
       "172    7.000\n",
       "173    7.300\n",
       "174    8.830\n",
       "175    8.410\n",
       "176    6.400\n",
       "177    7.580\n",
       "178    9.820\n",
       "179    8.000\n",
       "180    9.220\n",
       "181    8.050\n",
       "Name: CGPA, Length: 182, dtype: float64"
      ]
     },
     "execution_count": 10,
     "metadata": {},
     "output_type": "execute_result"
    }
   ],
   "source": [
    "df.CGPA"
   ]
  },
  {
   "cell_type": "code",
   "execution_count": 11,
   "metadata": {},
   "outputs": [
    {
     "data": {
      "text/plain": [
       "0       6.0\n",
       "1       6.0\n",
       "2       6.0\n",
       "3       6.0\n",
       "4       6.0\n",
       "5       6.0\n",
       "6       6.0\n",
       "7       6.0\n",
       "8       6.0\n",
       "9       6.0\n",
       "10      9.0\n",
       "11      6.0\n",
       "12     15.0\n",
       "13      6.0\n",
       "14      6.0\n",
       "15     15.0\n",
       "16      6.0\n",
       "17      6.0\n",
       "18     15.0\n",
       "19      6.0\n",
       "20      6.0\n",
       "21      6.0\n",
       "22      6.0\n",
       "23      6.0\n",
       "24      6.0\n",
       "25      6.0\n",
       "26      6.0\n",
       "27      6.0\n",
       "28      6.0\n",
       "29      6.0\n",
       "       ... \n",
       "152     6.0\n",
       "153     6.0\n",
       "154     6.0\n",
       "155     6.0\n",
       "156     6.0\n",
       "157     6.0\n",
       "158     6.0\n",
       "159    15.0\n",
       "160     6.0\n",
       "161     8.0\n",
       "162     5.6\n",
       "163     6.0\n",
       "164     6.0\n",
       "165     6.0\n",
       "166     6.0\n",
       "167     6.0\n",
       "168     6.0\n",
       "169     6.0\n",
       "170     4.0\n",
       "171     NaN\n",
       "172     6.0\n",
       "173     6.0\n",
       "174     6.0\n",
       "175     6.0\n",
       "176     6.0\n",
       "177     6.0\n",
       "178     6.0\n",
       "179     NaN\n",
       "180     6.0\n",
       "181     6.0\n",
       "Name: Mean, Length: 182, dtype: float64"
      ]
     },
     "execution_count": 11,
     "metadata": {},
     "output_type": "execute_result"
    }
   ],
   "source": [
    "df.Mean"
   ]
  },
  {
   "cell_type": "code",
   "execution_count": 12,
   "metadata": {},
   "outputs": [
    {
     "name": "stdout",
     "output_type": "stream",
     "text": [
      "     Gender  Height Weight         DOB   Age   CGPA  Rate_Programming      PL  \\\n",
      "0    Female     5'3     74   7/30/1999  19.0  8.290                 3     C++   \n",
      "1      Male     176     62    6/4/1999  19.0  8.270                 4       C   \n",
      "2      Male     176     62    6/4/1999  19.0  8.270                 4       C   \n",
      "3    Female     145     60   2/21/2000  18.0  9.210                 3  Python   \n",
      "4      Male     185     56   8/15/1999  19.0  8.460                 4       C   \n",
      "5      Male     170     79   6/21/1999  19.0  9.700                 4       C   \n",
      "6      Male     168     58    6/3/1999  19.0  7.460                 2       C   \n",
      "7    Female     156     63  10/25/1998  19.0  9.420                 3       C   \n",
      "8    Female     158     65  10/12/1999  18.0  9.170                 3       C   \n",
      "9      Male  180.34     60   7/10/1999  19.0  8.250                 4       C   \n",
      "10   Female     150     51   4/13/2000  18.0  6.500                 2       C   \n",
      "11     Male   165.1     64   9/10/1999  18.0  8.750                 4  Python   \n",
      "12     Male     193     69   1/20/2018  18.0  7.250                 3       C   \n",
      "13     Male     183     57    9/6/1999  18.0  7.940                 3  Python   \n",
      "14     Male     175     49  12/23/1998  19.0  8.620                 3       C   \n",
      "15     Male     175     70    1/8/1999  19.0  7.230                 3  Python   \n",
      "16   Female     156     40  11/25/1999  18.0  8.750                 3       C   \n",
      "17     Male     180   58.2    4/1/1999  19.0  9.520                 3       C   \n",
      "18   Female     5.4     61  12/14/1999  18.0  7.560                 3       C   \n",
      "19     Male     178     60    1/7/2000  18.0  7.920                 4       C   \n",
      "20     Male     180     67   2/14/2000  18.0  6.300                 2     C++   \n",
      "21     Male     160     80  11/25/1999  18.0  9.540                 3  Python   \n",
      "22     Male     170     70   5/21/1999  19.0  7.565                 3       C   \n",
      "23     Male     179     88    1/7/1999  19.0  6.000                 3     C++   \n",
      "24     Male   182.8     58   6/10/1999  20.0  7.650                 4  Python   \n",
      "25     Male     179   57.5   7/13/1999  19.0  9.190                 4  Python   \n",
      "26     Male     180     54   4/19/1999  19.0  7.850                 3  Python   \n",
      "27   Female     156     46  12/24/1998  19.0  9.040                 4       C   \n",
      "28     Male     170     55   7/28/1999  19.0  8.790                 4       C   \n",
      "29     Male     168     63   10/8/1998  20.0  8.500                 3     C++   \n",
      "..      ...     ...    ...         ...   ...    ...               ...     ...   \n",
      "152  Female     158     60  11/29/1999  18.0  7.200                 3     C++   \n",
      "153  Female     164     47    7/9/1999  19.0  6.670                 2       C   \n",
      "154  Female     158     52  12/28/1999  18.0  9.100                 3       C   \n",
      "155    Male  167.85     50    8/4/2000  18.0  7.000                 2       C   \n",
      "156    Male     180     70  12/23/1999  18.0  7.880                 3       C   \n",
      "157  Female     170     53   9/10/1999  18.0  7.750                 3     C++   \n",
      "158    Male     178     68   6/29/1999  19.0  8.000                 3       C   \n",
      "159    Male     182     72    1/3/2000  18.0  7.750                 3       C   \n",
      "160    Male   167.6     50  12/14/1999  18.0  9.325                 3       C   \n",
      "161    Male     175     82   1/18/2000  18.0  8.670                 3       C   \n",
      "162  Female     160     56   3/15/2000  18.0  8.200                 3       C   \n",
      "163    Male     178     53  10/23/1999  18.0  8.400                 4  Python   \n",
      "164    Male     178     53  10/23/1999  18.0  8.400                 4  Python   \n",
      "165    Male     175     68    9/2/1998  19.0  7.000                 2  Python   \n",
      "166    Male     181     63   6/24/2000  18.0  7.730                 3  Python   \n",
      "167  Female     153     54    4/1/1999  19.0  7.000                 2       C   \n",
      "168    Male     183   61.5  12/30/2018  18.0  8.700                 4  Python   \n",
      "169    Male     162     48   5/20/1998  20.0  8.580                 4  Python   \n",
      "170    Male     175     65   7/30/1999  19.0  8.500                 4       C   \n",
      "171    Male     183     56    8/6/1999  18.0  8.960                 3       C   \n",
      "172    Male   185.6     82    2/9/2000  18.0  7.000                 3  Python   \n",
      "173  Female     167     50  10/28/1999  19.0  7.300                 4       C   \n",
      "174    Male     176     69  10/10/1998  19.0  8.830                 4    Java   \n",
      "175  Female   165cm     45   3/27/2018  19.0  8.410                 3  Python   \n",
      "176    Male     175     60   5/19/1999  19.0  6.400                 2       C   \n",
      "177    Male     170     69   7/23/1999  19.0  7.580                 3       C   \n",
      "178    Male     165     55   7/21/1999  19.0  9.820                 4  Python   \n",
      "179    Male     5.9     65   5/16/1999  19.0  8.000                 4       C   \n",
      "180    Male     170     50    9/7/1999  19.0  9.220                 4       C   \n",
      "181    Male     185    114  12/30/1998  19.0  8.050                 4  Python   \n",
      "\n",
      "     Mean Median  \n",
      "0     6.0      8  \n",
      "1     6.0      9  \n",
      "2     6.0      9  \n",
      "3     6.0      9  \n",
      "4     6.0      8  \n",
      "5     6.0      8  \n",
      "6     6.0    8.5  \n",
      "7     6.0      8  \n",
      "8     6.0      8  \n",
      "9     6.0      8  \n",
      "10    9.0      8  \n",
      "11    6.0      8  \n",
      "12   15.0      8  \n",
      "13    6.0      8  \n",
      "14    6.0      9  \n",
      "15   15.0      8  \n",
      "16    6.0      8  \n",
      "17    6.0      8  \n",
      "18   15.0      9  \n",
      "19    6.0      9  \n",
      "20    6.0      8  \n",
      "21    6.0      8  \n",
      "22    6.0      9  \n",
      "23    6.0      8  \n",
      "24    6.0      8  \n",
      "25    6.0      8  \n",
      "26    6.0      8  \n",
      "27    6.0      8  \n",
      "28    6.0      8  \n",
      "29    6.0      8  \n",
      "..    ...    ...  \n",
      "152   6.0      8  \n",
      "153   6.0      8  \n",
      "154   6.0      9  \n",
      "155   6.0      5  \n",
      "156   6.0      8  \n",
      "157   6.0      8  \n",
      "158   6.0      8  \n",
      "159  15.0      8  \n",
      "160   6.0      9  \n",
      "161   8.0      9  \n",
      "162   5.6      8  \n",
      "163   6.0      8  \n",
      "164   6.0      8  \n",
      "165   6.0      8  \n",
      "166   6.0      8  \n",
      "167   6.0      9  \n",
      "168   6.0      8  \n",
      "169   6.0      8  \n",
      "170   4.0      8  \n",
      "171   NaN      9  \n",
      "172   6.0      5  \n",
      "173   6.0      8  \n",
      "174   6.0      8  \n",
      "175   6.0      8  \n",
      "176   6.0      5  \n",
      "177   6.0    5.5  \n",
      "178   6.0      8  \n",
      "179   NaN      8  \n",
      "180   6.0      8  \n",
      "181   6.0      9  \n",
      "\n",
      "[182 rows x 10 columns]\n"
     ]
    }
   ],
   "source": [
    "print(df)"
   ]
  },
  {
   "cell_type": "code",
   "execution_count": 13,
   "metadata": {
    "scrolled": true
   },
   "outputs": [
    {
     "data": {
      "text/plain": [
       "array([[<matplotlib.axes._subplots.AxesSubplot object at 0x0B8E5EF0>,\n",
       "        <matplotlib.axes._subplots.AxesSubplot object at 0x0B917230>],\n",
       "       [<matplotlib.axes._subplots.AxesSubplot object at 0x0B931390>,\n",
       "        <matplotlib.axes._subplots.AxesSubplot object at 0x0B94B4F0>]],\n",
       "      dtype=object)"
      ]
     },
     "execution_count": 13,
     "metadata": {},
     "output_type": "execute_result"
    },
    {
     "data": {
      "image/png": "[encoded data removed]",
      "text/plain": [
       "<Figure size 432x288 with 4 Axes>"
      ]
     },
     "metadata": {},
     "output_type": "display_data"
    }
   ],
   "source": [
    "df.hist()"
   ]
  },
  {
   "cell_type": "code",
   "execution_count": 76,
   "metadata": {},
   "outputs": [
    {
     "data": {
      "text/plain": [
       "<matplotlib.axes._subplots.AxesSubplot at 0x3340310>"
      ]
     },
     "execution_count": 76,
     "metadata": {},
     "output_type": "execute_result"
    },
    {
     "data": {
      "image/png": "[encoded data removed]",
      "text/plain": [
       "<Figure size 432x288 with 1 Axes>"
      ]
     },
     "metadata": {},
     "output_type": "display_data"
    }
   ],
   "source": [
    "df.plot.scatter(x='CGPA',y='Mean',c='DarkBlue')"
   ]
  },
  {
   "cell_type": "code",
   "execution_count": 14,
   "metadata": {},
   "outputs": [
    {
     "name": "stdout",
     "output_type": "stream",
     "text": [
      "7.000000    9\n",
      "8.000000    7\n",
      "8.750000    5\n",
      "8.500000    5\n",
      "9.170000    4\n",
      "9.500000    4\n",
      "8.200000    4\n",
      "8.960000    3\n",
      "8.460000    3\n",
      "8.400000    3\n",
      "7.800000    3\n",
      "7.460000    3\n",
      "6.000000    3\n",
      "6.500000    3\n",
      "6.800000    3\n",
      "7.200000    2\n",
      "8.270000    2\n",
      "9.000000    2\n",
      "7.750000    2\n",
      "8.790000    2\n",
      "8.920000    2\n",
      "8.250000    2\n",
      "9.210000    2\n",
      "7.880000    2\n",
      "8.580000    2\n",
      "7.700000    2\n",
      "8.300000    2\n",
      "9.150000    2\n",
      "8.320000    2\n",
      "7.170000    2\n",
      "           ..\n",
      "9.710000    1\n",
      "9.420000    1\n",
      "9.355000    1\n",
      "8.355000    1\n",
      "9.540000    1\n",
      "9.520000    1\n",
      "6.400000    1\n",
      "8.410000    1\n",
      "8.650000    1\n",
      "8.170000    1\n",
      "7.940000    1\n",
      "9.290000    1\n",
      "7.350000    1\n",
      "9.200000    1\n",
      "7.680000    1\n",
      "7.100000    1\n",
      "0.000001    1\n",
      "9.325000    1\n",
      "9.630000    1\n",
      "8.620000    1\n",
      "6.300000    1\n",
      "9.300000    1\n",
      "8.380000    1\n",
      "8.440000    1\n",
      "7.790000    1\n",
      "9.820000    1\n",
      "9.220000    1\n",
      "7.920000    1\n",
      "7.330000    1\n",
      "8.700000    1\n",
      "Name: CGPA, Length: 110, dtype: int64\n",
      "<class 'pandas.core.series.Series'>\n"
     ]
    }
   ],
   "source": [
    "data_count=df.CGPA.value_counts()\n",
    "print(data_count)\n",
    "print(type(data_count))"
   ]
  },
  {
   "cell_type": "code",
   "execution_count": 15,
   "metadata": {},
   "outputs": [
    {
     "data": {
      "text/plain": [
       "<matplotlib.axes._subplots.AxesSubplot at 0xb992db0>"
      ]
     },
     "execution_count": 15,
     "metadata": {},
     "output_type": "execute_result"
    },
    {
     "data": {
      "image/png": "[encoded data removed]",
      "text/plain": [
       "<Figure size 432x288 with 1 Axes>"
      ]
     },
     "metadata": {},
     "output_type": "display_data"
    }
   ],
   "source": [
    "CGPA=[]\n",
    "for i,j in data_count.iteritems():\n",
    "    if(j<5):\n",
    "        CGPA.append(i)\n",
    "data_count=data_count.drop(CGPA)\n",
    "plt.xlabel('CGPA')\n",
    "plt.ylabel('syudents')\n",
    "data_count.plot(\"bar\")"
   ]
  },
  {
   "cell_type": "code",
   "execution_count": 16,
   "metadata": {},
   "outputs": [],
   "source": [
    "data_count=df.PL.value_counts()"
   ]
  },
  {
   "cell_type": "code",
   "execution_count": 17,
   "metadata": {},
   "outputs": [
    {
     "name": "stdout",
     "output_type": "stream",
     "text": [
      "C         95\n",
      "Python    54\n",
      "C++       24\n",
      "Java       5\n",
      "Lol        2\n",
      "R          1\n",
      "None       1\n",
      "Name: PL, dtype: int64\n",
      "<class 'pandas.core.series.Series'>\n"
     ]
    }
   ],
   "source": [
    "print(data_count)\n",
    "print(type(data_count))"
   ]
  },
  {
   "cell_type": "code",
   "execution_count": 18,
   "metadata": {},
   "outputs": [
    {
     "data": {
      "text/plain": [
       "<matplotlib.axes._subplots.AxesSubplot at 0x2f32690>"
      ]
     },
     "execution_count": 18,
     "metadata": {},
     "output_type": "execute_result"
    },
    {
     "data": {
      "image/png": "[encoded data removed]",
      "text/plain": [
       "<Figure size 432x288 with 1 Axes>"
      ]
     },
     "metadata": {},
     "output_type": "display_data"
    }
   ],
   "source": [
    "PL=[]\n",
    "for i,j in data_count.iteritems():\n",
    "    if(j<50):\n",
    "        PL.append(i)\n",
    "data_count=data_count.drop(PL)\n",
    "plt.xlabel('programming language')\n",
    "plt.ylabel('no.of students')\n",
    "data_count.plot(\"bar\")"
   ]
  },
  {
   "cell_type": "code",
   "execution_count": 68,
   "metadata": {},
   "outputs": [
    {
     "name": "stdout",
     "output_type": "stream",
     "text": [
      "Power_divergenceResult(statistic=247450529150.27255, pvalue=0.0)\n",
      "Obsv \t\t Exp\n",
      "69.0 \t\t 33.1006952332444\n",
      "29.0 \t\t 31.34232189364927\n",
      "0.0 \t\t 13.355792635404262\n",
      "0.0 \t\t 2.551035276215474\n",
      "0.0 \t\t 0.2169724276154139\n",
      "1.0 \t\t 0.008154611386401722\n",
      "0.0 \t\t 0.00013442386771478354\n",
      "0.0 \t\t 9.656093924448328e-07\n",
      "0.0 \t\t 3.0065949729873864e-09\n",
      "1.0 \t\t 4.04121180963557e-12\n"
     ]
    },
    {
     "data": {
      "image/png": "[encoded data removed]",
      "text/plain": [
       "<Figure size 432x288 with 1 Axes>"
      ]
     },
     "metadata": {},
     "output_type": "display_data"
    }
   ],
   "source": [
    "sample_size = 100\n",
    "nbins = 10\n",
    "\n",
    "sample = df.CGPA.sample(sample_size)\n",
    "mean = np.mean(sample)\n",
    "sd = np.std(sample, ddof=1)\n",
    "\n",
    "obsv_count, bins, patches = plt.hist(sample, bins =nbins)\n",
    "#getting z scores for the bins\n",
    "z = [(x - mean)/sd for x in bins]\n",
    "\n",
    "#getting area between the z-scores\n",
    "prob = [norm.cdf(z[i+1]) - norm.cdf(z[i]) for i in range(nbins)]\n",
    "\n",
    "#getting expected count : sample_size * prob\n",
    "exp_count = [p * sample_size for p in prob]\n",
    "\n",
    "#performing chi square test\n",
    "test = chisquare(obsv_count, exp_count)\n",
    "print(test)\n",
    "print('Obsv','\\t\\t', 'Exp')\n",
    "for i in range(nbins):\n",
    "    print(obsv_count[i],'\\t\\t', exp_count[i])\n",
    "#print(sd)"
   ]
  },
  {
   "cell_type": "code",
   "execution_count": 69,
   "metadata": {},
   "outputs": [
    {
     "name": "stdout",
     "output_type": "stream",
     "text": [
      "Proportion of CIs covering Pop mean 0.9\n"
     ]
    },
    {
     "data": {
      "image/png": "[encoded data removed]",
      "text/plain": [
       "<Figure size 720x720 with 1 Axes>"
      ]
     },
     "metadata": {},
     "output_type": "display_data"
    }
   ],
   "source": [
    "pop_mean = np.mean(df.CGPA)\n",
    "def sampling(sample_size, no_of_samples):\n",
    "    sample_means = []\n",
    "    intervals = []\n",
    "    count = 0\n",
    "    for i in range(no_of_samples):\n",
    "        sample = df.CGPA.sample(sample_size)\n",
    "        sample_means.append(np.mean(sample))\n",
    "        ci = norm.interval(0.95, np.mean(sample), \n",
    "                            np.std(sample, ddof =1)/sqrt(sample_size))\n",
    "        intervals.append(ci)\n",
    "        if pop_mean >= ci[0] and pop_mean <= ci[1]:\n",
    "            count = count + 1\n",
    "    print('Proportion of CIs covering Pop mean', count/no_of_samples)\n",
    "    plt.figure(figsize=(10,10))\n",
    "    plt.hlines(y = pop_mean, xmin = 0, xmax = 100, color ='r')\n",
    "    plt.errorbar(np.arange(0.95, 10, 1), sample_means, fmt = 'o', yerr = [(upp - low)/2 for low, upp in intervals])\n",
    "    plt.show()\n",
    "    \n",
    "sampling(100,10)\n",
    "#rint(np.mean(sample))\n",
    "#rint(np.std(sample))"
   ]
  },
  {
   "cell_type": "code",
   "execution_count": null,
   "metadata": {},
   "outputs": [],
   "source": []
  }
 ],
 "metadata": {
  "kernelspec": {
   "display_name": "Python 3",
   "language": "python",
   "name": "python3"
  },
  "language_info": {
   "codemirror_mode": {
    "name": "ipython",
    "version": 3
   },
   "file_extension": ".py",
   "mimetype": "text/x-python",
   "name": "python",
   "nbconvert_exporter": "python",
   "pygments_lexer": "ipython3",
   "version": "3.6.5"
  }
 },
 "nbformat": 4,
 "nbformat_minor": 2
}
